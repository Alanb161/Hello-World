{
  "nbformat": 4,
  "nbformat_minor": 0,
  "metadata": {
    "colab": {
      "name": "Takeoff.ipynb",
      "provenance": [],
      "collapsed_sections": [],
      "authorship_tag": "ABX9TyPrwKBaTBXasEl9OsByuiXi",
      "include_colab_link": true
    },
    "kernelspec": {
      "name": "python3",
      "display_name": "Python 3"
    }
  },
  "cells": [
    {
      "cell_type": "markdown",
      "metadata": {
        "id": "view-in-github",
        "colab_type": "text"
      },
      "source": [
        "<a href=\"https://colab.research.google.com/github/Alanb161/Hello-World/blob/main/Takeoff.ipynb\" target=\"_parent\"><img src=\"https://colab.research.google.com/assets/colab-badge.svg\" alt=\"Open In Colab\"/></a>"
      ]
    },
    {
      "cell_type": "markdown",
      "metadata": {
        "id": "9wo3qb8__Vt7"
      },
      "source": [
        "OBS: we can't implement this algorithm yet because of the FARs involved.. We need to develop a way of calculating the stuff that is automatically determined by the American Aviation Rules <br>\r\n",
        "OBS: I don't think this Gudmundsson method includes the twisting part of the take-off process, I think this is just for ground-run distance estimation. But anyways, we could think about a way to implement that, after we take care of the basic parts of the algorithm."
      ]
    },
    {
      "cell_type": "markdown",
      "metadata": {
        "id": "TbZ8PzE-1qzp"
      },
      "source": [
        "<b>Gudmundson - step 1: lift-off speed </b>\n"
      ]
    },
    {
      "cell_type": "markdown",
      "metadata": {
        "id": "80kbLzFmYFaY"
      },
      "source": [
        "I am using the speed restrictions at this moment, those must be a problem to be later corrected. I gotta create a model for determining that speed<br>\n",
        "Vlof = 1.556*sqrt((W)/(p*S*Clmax))<br>\n",
        "For now, W = 169; p = 1.224; S = 1.952; Clmax = 1.676<br>\n",
        "That data comes from Aerodynamics and from an atmosphere change numerical model\n",
        "\n"
      ]
    },
    {
      "cell_type": "code",
      "metadata": {
        "id": "6wc6ia2o1jZ8",
        "colab": {
          "base_uri": "https://localhost:8080/"
        },
        "outputId": "a73bdcbf-8f31-4ffd-873a-f31d7e42ff23"
      },
      "source": [
        "\n",
        "import math\n",
        "W = 169\n",
        "p = 1.224\n",
        "S = 1.952\n",
        "Clmax = 1.676\n",
        "Vlof = 1.556*math.sqrt((W)/(p*S*Clmax))\n",
        "print(Vlof)"
      ],
      "execution_count": null,
      "outputs": [
        {
          "output_type": "stream",
          "text": [
            "10.108467572742445\n"
          ],
          "name": "stdout"
        }
      ]
    },
    {
      "cell_type": "markdown",
      "metadata": {
        "id": "Hz6sMH233irT"
      },
      "source": [
        "<b>Step 2 - lift-induced drag at ground effect</b>\n"
      ]
    },
    {
      "cell_type": "markdown",
      "metadata": {
        "id": "mGtSCNdlYU-y"
      },
      "source": [
        "First we calculate the ground effect value by one of its approximations<br>\n",
        "phi = ground effect<br>\n",
        "for now, h = 0.135; b = 2.5; h/b = 0.054 <br>\n",
        "Again, that data is all coming from Aerodynamics\n"
      ]
    },
    {
      "cell_type": "code",
      "metadata": {
        "id": "cEB4Ekb73oWL",
        "colab": {
          "base_uri": "https://localhost:8080/"
        },
        "outputId": "94c143a7-2ab8-4a77-a746-9c40072b058a"
      },
      "source": [
        "\n",
        "phi = 1 - (1-(1.32*0.054))/(1.05+(7.4*0.054))\n",
        "print(phi)"
      ],
      "execution_count": null,
      "outputs": [
        {
          "output_type": "stream",
          "text": [
            "0.35932671081677703\n"
          ],
          "name": "stdout"
        }
      ]
    },
    {
      "cell_type": "markdown",
      "metadata": {
        "id": "-u7anMDeZCID"
      },
      "source": [
        "for now, Cl = 0.739, pi = 3.14, AR = 6.652, e = 0.933 <br>\r\n",
        "Cdioge == induced drag out of ground effect coefficient"
      ]
    },
    {
      "cell_type": "code",
      "metadata": {
        "id": "t7tlJ-NaZECJ",
        "colab": {
          "base_uri": "https://localhost:8080/"
        },
        "outputId": "6705ec9f-0288-4574-b85e-fbe9fc2fc16b"
      },
      "source": [
        "Cl = 0.739\n",
        "pi = 3.14\n",
        "AR = 6.652\n",
        "e = 0.933\n",
        "Cdioge = (Cl**2)/(pi*e*AR)\n",
        "print(Cdioge)"
      ],
      "execution_count": null,
      "outputs": [
        {
          "output_type": "stream",
          "text": [
            "0.028023691566835856\n"
          ],
          "name": "stdout"
        }
      ]
    },
    {
      "cell_type": "markdown",
      "metadata": {
        "id": "Pdxe6VcbZNLo"
      },
      "source": [
        "now the lift-induced drag coefficient in ground effect"
      ]
    },
    {
      "cell_type": "code",
      "metadata": {
        "id": "9kA9d9hwZN0g",
        "colab": {
          "base_uri": "https://localhost:8080/"
        },
        "outputId": "c8d8cabb-14ae-4914-efc5-8ff8e67a3ec2"
      },
      "source": [
        "Cdiige = phi*Cdioge\n",
        "print(Cdiige)"
      ],
      "execution_count": null,
      "outputs": [
        {
          "output_type": "stream",
          "text": [
            "0.01006966091565498\n"
          ],
          "name": "stdout"
        }
      ]
    },
    {
      "cell_type": "markdown",
      "metadata": {
        "id": "r8I-vkbv5Ylj"
      },
      "source": [
        "<b>Step 3 - lift at the reduced lift-off speed</b>"
      ]
    },
    {
      "cell_type": "markdown",
      "metadata": {
        "id": "_SJRuQ4t84gj"
      },
      "source": [
        "And yet another FAR that we cannot apply to the Aerodesign competition"
      ]
    },
    {
      "cell_type": "code",
      "metadata": {
        "id": "6GzJbtXv5cm4",
        "colab": {
          "base_uri": "https://localhost:8080/"
        },
        "outputId": "542c3f06-7d99-4f5c-d80c-bfa58e99ad14"
      },
      "source": [
        "\n",
        "Vlofred = (Vlof)/(math.sqrt(2))\n",
        "print(Vlofred)\n",
        "\n",
        "L = 0.5*p*math.sqrt(Vlofred)*S*Cl\n",
        "print(L)"
      ],
      "execution_count": null,
      "outputs": [
        {
          "output_type": "stream",
          "text": [
            "7.147765968090503\n",
            "2.360265378944196\n"
          ],
          "name": "stdout"
        }
      ]
    },
    {
      "cell_type": "markdown",
      "metadata": {
        "id": "XbEKcHUa7B9O"
      },
      "source": [
        "<b>Step 4 - drag at the reduced lift-off speed<b/>\n"
      ]
    },
    {
      "cell_type": "markdown",
      "metadata": {
        "id": "uKwC9L26ZrBR"
      },
      "source": [
        "for now, Cd = 0.0675"
      ]
    },
    {
      "cell_type": "code",
      "metadata": {
        "id": "nVgf3Ab-7JE3",
        "colab": {
          "base_uri": "https://localhost:8080/"
        },
        "outputId": "66d268ac-867f-4434-a2ed-853bf746bf23"
      },
      "source": [
        "Cd = 0.0675\n",
        "D = 0.5*p*math.sqrt(Vlofred)*S*Cd\n",
        "print(D)"
      ],
      "execution_count": null,
      "outputs": [
        {
          "output_type": "stream",
          "text": [
            "0.2155858093081641\n"
          ],
          "name": "stdout"
        }
      ]
    },
    {
      "cell_type": "markdown",
      "metadata": {
        "id": "ZBnyyYm87dif"
      },
      "source": [
        "<b>Step 5 - thrust at the reduced lift-off speed<b/>"
      ]
    },
    {
      "cell_type": "markdown",
      "metadata": {
        "id": "pK2J2HYfZzgA"
      },
      "source": [
        "T = (np * 550 * Pbhp)/(Vlof/math.sqrt(2))<br>\n",
        "You need np(propeller efficiency at Vlof/math.sqrt(2))<br>\n",
        "You also need Pbhp(piston engine horsepower)<br>\n",
        "for now, np = 35.28 (AT4130 + eolo 16 x 8), Pbhp = 694.05 W, Pbhp = 0.93 hp"
      ]
    },
    {
      "cell_type": "code",
      "metadata": {
        "id": "aZWHJbch7qZS",
        "colab": {
          "base_uri": "https://localhost:8080/"
        },
        "outputId": "ded9cef9-502d-40bd-e589-e1bfb1afe5e4"
      },
      "source": [
        "np = 35.28\n",
        "Pbhp = 0.93\n",
        "T = (np * 550 * Pbhp)/((Vlof))/((math.sqrt(2)))\n",
        "print(T)\n"
      ],
      "execution_count": null,
      "outputs": [
        {
          "output_type": "stream",
          "text": [
            "1262.332879990812\n"
          ],
          "name": "stdout"
        }
      ]
    },
    {
      "cell_type": "markdown",
      "metadata": {
        "id": "P-umtWZN7yak"
      },
      "source": [
        "<b>Step 6 - Ground run<b/>\n"
      ]
    },
    {
      "cell_type": "code",
      "metadata": {
        "id": "iSpSdokj8KCq"
      },
      "source": [
        "mi = 0.03\n",
        "#a = (g/W)*(T-D-mi*(W-L))\n",
        "#S-So = (V**2 - (Vo)**2)/(2*a)\n",
        "\n"
      ],
      "execution_count": null,
      "outputs": []
    }
  ]
}